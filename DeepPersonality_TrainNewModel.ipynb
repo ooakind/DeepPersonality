{
  "cells": [
    {
      "cell_type": "markdown",
      "metadata": {
        "id": "OjAlYgid2Dvp"
      },
      "source": [
        "# Installation"
      ]
    },
    {
      "cell_type": "code",
      "execution_count": null,
      "metadata": {
        "id": "TK_tx5id0JQL"
      },
      "outputs": [],
      "source": [
        "!git clone https://github.com/liaorongfan/DeepPersonality.git"
      ]
    },
    {
      "cell_type": "code",
      "execution_count": null,
      "metadata": {
        "id": "JlpW33tT13ZB"
      },
      "outputs": [],
      "source": [
        "import os\n",
        "os.chdir(\"/content/DeepPersonality\")\n",
        "!pip install -r requirements.txt"
      ]
    },
    {
      "cell_type": "markdown",
      "metadata": {
        "id": "cHY5oevg-n1q"
      },
      "source": [
        "# Prepare data"
      ]
    },
    {
      "cell_type": "code",
      "execution_count": 3,
      "metadata": {
        "colab": {
          "base_uri": "https://localhost:8080/"
        },
        "id": "6_dGRKvP2jX9",
        "outputId": "c3547039-467f-4797-9fcc-fb5fad4e3986"
      },
      "outputs": [
        {
          "name": "stdout",
          "output_type": "stream",
          "text": [
            "/content/DeepPersonality\n",
            "Downloading...\n",
            "From: https://drive.google.com/uc?id=1eANtFzA75Mqv01nW45exfauAIMLNO70J\n",
            "To: /content/DeepPersonality/ChaLearn2016_tiny_processed.zip\n",
            "100% 1.59G/1.59G [00:08<00:00, 193MB/s]\n"
          ]
        }
      ],
      "source": [
        "!pwd\n",
        "!gdown 1eANtFzA75Mqv01nW45exfauAIMLNO70J --output ChaLearn2016_tiny_processed.zip"
      ]
    },
    {
      "cell_type": "code",
      "execution_count": null,
      "metadata": {
        "id": "8UOaCgsP2qY7"
      },
      "outputs": [],
      "source": [
        "!unzip ChaLearn2016_tiny_processed.zip -d datasets"
      ]
    },
    {
      "cell_type": "markdown",
      "metadata": {
        "id": "Zt2qnAXr_DR0"
      },
      "source": [
        "# Train your own model\n",
        "If you have designed your own model and want to conduct an experiment on it. Base on the DeepPersonality code base, there are only two steps need to be bone. \n",
        "1. Register your model\n",
        "2. Modify default configration"
      ]
    },
    {
      "cell_type": "markdown",
      "metadata": {
        "id": "_sdxO8XdCzd-"
      },
      "source": [
        "## Register your model \n",
        "\n",
        "The designed model can be `registered` by a `decorater` named `NETWORK_REGISTRY`, shown as below. \n",
        ">To acturally run the following demo model, you should create a python script `xx_net.py` and copy the code snap into it. And then `import` the it in `__init__.py` file.\n",
        "\n",
        "For the demonstration VGG model, it is copied into a file named `demo_model.py` under directory `dpcv/modeling/networks`, and imported in file `dpcv/modeling/networks/__init__.py`"
      ]
    },
    {
      "cell_type": "code",
      "execution_count": 1,
      "metadata": {
        "id": "VxnwB3wJ28W5"
      },
      "outputs": [],
      "source": [
        "# dpcv/modeling/networks\n",
        "# demo_model.py\n",
        "import torch\n",
        "import torchvision.models as models\n",
        "from dpcv.modeling.networks.build import NETWORK_REGISTRY\n",
        "\n",
        "\n",
        "# @NETWORK_REGISTRY.register()\n",
        "# def demo_model(args=None):\n",
        "#     model = models.vgg16(num_classes=5)\n",
        "#     model = model.to(\n",
        "#         device=torch.device(\"cuda\" if torch.cuda.is_available() else \"cpu\")\n",
        "#     )\n",
        "#     return model\n",
        "\n",
        "# @NETWORK_REGISTRY.register()\n",
        "# def cr_net(args=None):\n",
        "#     model = models.vgg16(num_classes=5)\n",
        "#     models.\n",
        "#     model = model.to(\n",
        "#         device=torch.device(\"cuda\" if torch.cuda.is_available() else \"cpu\")\n",
        "#     )\n",
        "#     return model\n"
      ]
    },
    {
      "cell_type": "code",
      "execution_count": 1,
      "metadata": {
        "id": "V3IByn-e98bY"
      },
      "outputs": [],
      "source": [
        "# dpcv/modeling/networks/__init__.py\n",
        "# import os\n",
        "\n",
        "# !pwd\n",
        "# from dpcv.modeling.networks.cr_net import *\n",
        "import dpcv.modeling.networks.demo_model"
      ]
    },
    {
      "cell_type": "code",
      "execution_count": null,
      "metadata": {},
      "outputs": [],
      "source": []
    },
    {
      "cell_type": "markdown",
      "metadata": {
        "id": "OQ-Mlnwdcjcu"
      },
      "source": [
        "## Modify default configration"
      ]
    },
    {
      "cell_type": "markdown",
      "metadata": {
        "id": "Yd7LKMLLc6D-"
      },
      "source": [
        "There are different `data_loader` and `modal_trainer` to meet the requirements from different model inputs. Take the demo experiments we used for example, it employ bimodal_renet18 network whch takes audio and visual data as input. While the vgg model only takes visual data as input, we should change the `data_loader` and `modal_trainer` as follows."
      ]
    },
    {
      "cell_type": "code",
      "execution_count": 4,
      "metadata": {
        "id": "SOyOKWdD23AJ"
      },
      "outputs": [
        {
          "name": "stdout",
          "output_type": "stream",
          "text": [
            "{\n",
            "    \"DATA\":{\n",
            "        \"ROOT\":\"datasets\",\n",
            "        \"SESSION\":\"talk\",\n",
            "        \"TEST_AUD_DATA\":\"ChaLearn2016_tiny/voice_data/voice_librosa/test_data\",\n",
            "        \"TEST_IMG_DATA\":\"ChaLearn2016_tiny/test_data\",\n",
            "        \"TEST_IMG_FACE_DATA\":\"image_data/test_data_face\",\n",
            "        \"TEST_LABEL_DATA\":\"ChaLearn2016_tiny/annotation/annotation_test.pkl\",\n",
            "        \"TRAIN_AUD_DATA\":\"ChaLearn2016_tiny/voice_data/voice_librosa/train_data\",\n",
            "        \"TRAIN_IMG_DATA\":\"ChaLearn2016_tiny/train_data\",\n",
            "        \"TRAIN_IMG_FACE_DATA\":\"image_data/train_data_face\",\n",
            "        \"TRAIN_LABEL_DATA\":\"ChaLearn2016_tiny/annotation/annotation_training.pkl\",\n",
            "        \"TYPE\":\"frame\",\n",
            "        \"VALID_AUD_DATA\":\"ChaLearn2016_tiny/voice_data/voice_librosa/valid_data\",\n",
            "        \"VALID_IMG_DATA\":\"ChaLearn2016_tiny/valid_data\",\n",
            "        \"VALID_IMG_FACE_DATA\":\"image_data/valid_data_face\",\n",
            "        \"VALID_LABEL_DATA\":\"ChaLearn2016_tiny/annotation/annotation_validation.pkl\",\n",
            "        \"VA_DATA\":\"va_data/cropped_aligned\",\n",
            "        \"VA_ROOT\":\"datasets\",\n",
            "        \"VA_TRAIN_LABEL\":\"va_data/va_label/VA_Set/Train_Set\",\n",
            "        \"VA_VALID_LABEL\":\"va_data/va_label/VA_Set/Validation_Set\"\n",
            "    },\n",
            "    \"DATA_LOADER\":{\n",
            "        \"DATASET\":\"\",\n",
            "        \"DROP_LAST\":true,\n",
            "        \"NAME\":\"single_frame_data_loader\",\n",
            "        \"NUM_WORKERS\":0,\n",
            "        \"SECOND_STAGE\":{\n",
            "            \"METHOD\":\"\",\n",
            "            \"TYPE\":\"\"\n",
            "        },\n",
            "        \"SHUFFLE\":true,\n",
            "        \"TRAIN_BATCH_SIZE\":8,\n",
            "        \"TRANSFORM\":\"standard_frame_transform\",\n",
            "        \"VALID_BATCH_SIZE\":4\n",
            "    },\n",
            "    \"LOSS\":{\n",
            "        \"NAME\":\"mean_square_error\"\n",
            "    },\n",
            "    \"MODEL\":{\n",
            "        \"NAME\":\"demo_model\",\n",
            "        \"NUM_CLASS\":5,\n",
            "        \"PRETRAIN\":false,\n",
            "        \"RETURN_FEATURE\":false,\n",
            "        \"SPECTRUM_CHANNEL\":50\n",
            "    },\n",
            "    \"SOLVER\":{\n",
            "        \"BETA_1\":0.5,\n",
            "        \"BETA_2\":0.999,\n",
            "        \"FACTOR\":0.1,\n",
            "        \"LR_INIT\":0.001,\n",
            "        \"MILESTONE\":[\n",
            "            100,\n",
            "            200\n",
            "        ],\n",
            "        \"MOMENTUM\":0.9,\n",
            "        \"NAME\":\"sgd\",\n",
            "        \"RESET_LR\":false,\n",
            "        \"SCHEDULER\":\"multi_step_scale\",\n",
            "        \"WEIGHT_DECAY\":0.0005\n",
            "    },\n",
            "    \"TEST\":{\n",
            "        \"COMPUTE_CCC\":true,\n",
            "        \"COMPUTE_PCC\":true,\n",
            "        \"FULL_TEST\":false,\n",
            "        \"SAVE_DATASET_OUTPUT\":\"\",\n",
            "        \"TEST_ONLY\":false,\n",
            "        \"WEIGHT\":\"\"\n",
            "    },\n",
            "    \"TRAIN\":{\n",
            "        \"LOG_INTERVAL\":10,\n",
            "        \"MAX_EPOCH\":30,\n",
            "        \"OUTPUT_DIR\":\"results/demo_model\",\n",
            "        \"PRE_TRAINED_MODEL\":null,\n",
            "        \"RESUME\":\"\",\n",
            "        \"START_EPOCH\":0,\n",
            "        \"TRAINER\":\"ImageModalTrainer\",\n",
            "        \"VALID_INTERVAL\":1\n",
            "    }\n",
            "}\n",
            "Training: learning rate:0.001\n",
            "/home/hyojinju/anaconda3/envs/crnet/lib/python3.9/site-packages/torch/nn/modules/conv.py:456: UserWarning: Applied workaround for CuDNN issue, install nvrtc.so (Triggered internally at /opt/conda/conda-bld/pytorch_1699449181081/work/aten/src/ATen/native/cudnn/Conv_v8.cpp:80.)\n",
            "  return F.conv2d(input, weight, bias, self.stride,\n",
            "Valid: Epoch[001/030] Train Mean_Acc: 52.50% Valid Mean_Acc:76.10% OCEAN_ACC:[0.7583604  0.74265176 0.7736985  0.7928398  0.737622  ]\n",
            "\n",
            "Training: learning rate:0.001\n",
            "Valid: Epoch[002/030] Train Mean_Acc: 76.82% Valid Mean_Acc:87.03% OCEAN_ACC:[0.89146453 0.8497866  0.85477895 0.8800681  0.875438  ]\n",
            "\n",
            "Training: learning rate:0.001\n",
            "Valid: Epoch[003/030] Train Mean_Acc: 84.31% Valid Mean_Acc:84.76% OCEAN_ACC:[0.8286028  0.8554526  0.82981473 0.86964875 0.8544926 ]\n",
            "\n",
            "Training: learning rate:0.001\n",
            "Valid: Epoch[004/030] Train Mean_Acc: 83.23% Valid Mean_Acc:86.44% OCEAN_ACC:[0.8882511 0.8449797 0.8606234 0.8674808 0.8605835]\n",
            "\n",
            "Training: learning rate:0.001\n",
            "Valid: Epoch[005/030] Train Mean_Acc: 84.85% Valid Mean_Acc:85.75% OCEAN_ACC:[0.8772704  0.8419757  0.85257214 0.86375266 0.85190654]\n",
            "\n",
            "Training: learning rate:0.001\n",
            "Valid: Epoch[006/030] Train Mean_Acc: 84.42% Valid Mean_Acc:86.30% OCEAN_ACC:[0.88258314 0.8468606  0.854816   0.8698922  0.8609233 ]\n",
            "\n",
            "Training: learning rate:0.001\n",
            "Valid: Epoch[007/030] Train Mean_Acc: 84.88% Valid Mean_Acc:86.92% OCEAN_ACC:[0.8922779  0.8554635  0.8636785  0.88131356 0.85309523]\n",
            "\n",
            "Training: learning rate:0.001\n",
            "Valid: Epoch[008/030] Train Mean_Acc: 85.47% Valid Mean_Acc:86.98% OCEAN_ACC:[0.8942919  0.8527444  0.8666132  0.8709853  0.86437863]\n",
            "\n",
            "Training: learning rate:0.001\n",
            "Valid: Epoch[009/030] Train Mean_Acc: 84.99% Valid Mean_Acc:87.00% OCEAN_ACC:[0.89497775 0.8527112  0.8622988  0.873051   0.86683995]\n",
            "\n",
            "Training: learning rate:0.001\n",
            "Valid: Epoch[010/030] Train Mean_Acc: 85.53% Valid Mean_Acc:88.28% OCEAN_ACC:[0.8975578  0.86916465 0.87762475 0.89100593 0.87865657]\n",
            "\n",
            "Training: learning rate:0.001\n",
            "Valid: Epoch[011/030] Train Mean_Acc: 85.94% Valid Mean_Acc:87.47% OCEAN_ACC:[0.8949211  0.860229   0.86907476 0.8758831  0.8732508 ]\n",
            "\n",
            "Training: learning rate:0.001\n",
            "Valid: Epoch[012/030] Train Mean_Acc: 85.51% Valid Mean_Acc:87.89% OCEAN_ACC:[0.90381986 0.8630999  0.8701966  0.882592   0.87483114]\n",
            "\n",
            "Training: learning rate:0.001\n",
            "Valid: Epoch[013/030] Train Mean_Acc: 85.81% Valid Mean_Acc:87.43% OCEAN_ACC:[0.8970297 0.8626123 0.8685334 0.8743296 0.8690509]\n",
            "\n",
            "Training: learning rate:0.001\n",
            "Valid: Epoch[014/030] Train Mean_Acc: 85.60% Valid Mean_Acc:86.70% OCEAN_ACC:[0.8839622  0.8537337  0.86192894 0.8739717  0.86161166]\n",
            "\n",
            "Training: learning rate:0.001\n",
            "Valid: Epoch[015/030] Train Mean_Acc: 86.57% Valid Mean_Acc:87.65% OCEAN_ACC:[0.8971083  0.86553127 0.87212896 0.8773845  0.870553  ]\n",
            "\n",
            "Training: learning rate:0.001\n",
            "Valid: Epoch[016/030] Train Mean_Acc: 86.21% Valid Mean_Acc:88.21% OCEAN_ACC:[0.9039827  0.8674178  0.87561464 0.88814443 0.875331  ]\n",
            "\n",
            "Training: learning rate:0.001\n",
            "Valid: Epoch[017/030] Train Mean_Acc: 86.42% Valid Mean_Acc:88.47% OCEAN_ACC:[0.9032071  0.87006205 0.88049585 0.89433885 0.8754017 ]\n",
            "\n",
            "Training: learning rate:0.001\n",
            "Valid: Epoch[018/030] Train Mean_Acc: 86.30% Valid Mean_Acc:88.29% OCEAN_ACC:[0.9053691  0.86834574 0.87576324 0.88565975 0.8793542 ]\n",
            "\n",
            "Training: learning rate:0.001\n",
            "Valid: Epoch[019/030] Train Mean_Acc: 86.42% Valid Mean_Acc:88.06% OCEAN_ACC:[0.9030251  0.86864233 0.872673   0.8882313  0.8702271 ]\n",
            "\n",
            "Training: learning rate:0.001\n",
            "Valid: Epoch[020/030] Train Mean_Acc: 85.93% Valid Mean_Acc:87.98% OCEAN_ACC:[0.9025275  0.86504966 0.8726668  0.8879638  0.8707382 ]\n",
            "\n",
            "Training: learning rate:0.001\n",
            "Valid: Epoch[021/030] Train Mean_Acc: 85.92% Valid Mean_Acc:87.66% OCEAN_ACC:[0.8985351  0.8599159  0.87123656 0.8793349  0.8738478 ]\n",
            "\n",
            "Training: learning rate:0.001\n",
            "Valid: Epoch[022/030] Train Mean_Acc: 86.02% Valid Mean_Acc:88.19% OCEAN_ACC:[0.90188193 0.8686452  0.8743782  0.88583016 0.8787911 ]\n",
            "\n",
            "Training: learning rate:0.001\n",
            "Valid: Epoch[023/030] Train Mean_Acc: 86.84% Valid Mean_Acc:88.28% OCEAN_ACC:[0.90207815 0.8684742  0.8764586  0.8900783  0.8769087 ]\n",
            "\n",
            "Training: learning rate:0.001\n",
            "Valid: Epoch[024/030] Train Mean_Acc: 87.01% Valid Mean_Acc:88.01% OCEAN_ACC:[0.901614   0.87339514 0.87580913 0.8807965  0.8687933 ]\n",
            "\n",
            "Training: learning rate:0.001\n",
            "Valid: Epoch[025/030] Train Mean_Acc: 87.12% Valid Mean_Acc:87.92% OCEAN_ACC:[0.900218  0.863911  0.8749296 0.8859937 0.8707287]\n",
            "\n",
            "Training: learning rate:0.001\n",
            "Valid: Epoch[026/030] Train Mean_Acc: 86.50% Valid Mean_Acc:87.15% OCEAN_ACC:[0.8826497  0.8588169  0.86541176 0.88008267 0.87061477]\n",
            "\n",
            "Training: learning rate:0.001\n",
            "Valid: Epoch[027/030] Train Mean_Acc: 87.32% Valid Mean_Acc:87.71% OCEAN_ACC:[0.8966878  0.8727825  0.86985844 0.8752019  0.8708849 ]\n",
            "\n",
            "Training: learning rate:0.001\n",
            "Valid: Epoch[028/030] Train Mean_Acc: 87.50% Valid Mean_Acc:88.76% OCEAN_ACC:[0.9030657  0.876116   0.88188285 0.8922355  0.8845647 ]\n",
            "\n",
            "Training: learning rate:0.001\n",
            "Valid: Epoch[029/030] Train Mean_Acc: 87.64% Valid Mean_Acc:88.31% OCEAN_ACC:[0.9022003 0.8684759 0.8767323 0.8894823 0.8784897]\n",
            "\n",
            "Training: learning rate:0.001\n",
            "Valid: Epoch[030/030] Train Mean_Acc: 87.53% Valid Mean_Acc:87.54% OCEAN_ACC:[0.9007067  0.8596018  0.8759136  0.87711734 0.86358404]\n",
            "\n",
            "11-29_08-05 done, best acc: 0.8875729441642761 in :27\n",
            "Test only mode\n",
            "test with model results/demo_model/11-29_08-05/checkpoint_27.pkl\n",
            "100%|█████████████████████████████████████████████| 3/3 [00:00<00:00, 51.36it/s]\n",
            "mse: {'O': 0.0171, 'C': 0.0208, 'E': 0.0212, 'A': 0.0282, 'N': 0.0362} mean: 0.024700000882148743\n",
            "acc: {'O': 0.8962, 'C': 0.8832, 'E': 0.8829, 'A': 0.8565, 'N': 0.8539} mean: 0.8745\n",
            "pcc: {'O': 0.146, 'C': 0.1045, 'E': -0.1145, 'A': -0.1658, 'N': -0.1411} mean: -0.0342\n",
            "ccc: {'O': 0.123, 'C': 0.0817, 'E': -0.0904, 'A': -0.1254, 'N': -0.099} mean: -0.022\n"
          ]
        }
      ],
      "source": [
        "!python script/run_exp.py \\\n",
        "    -c /home/hyojinju/DeepPersonality/config/demo/bimodal_resnet18.yaml \\\n",
        "    --set MODEL.NAME demo_model\\\n",
        "    DATA_LOADER.NAME single_frame_data_loader \\\n",
        "    TRAIN.TRAINER ImageModalTrainer \\\n",
        "    TRAIN.OUTPUT_DIR results/demo_model"
      ]
    },
    {
      "cell_type": "markdown",
      "metadata": {
        "id": "OUtheLKZfARf"
      },
      "source": [
        "\n",
        "And of course we can write those configration into a corresponding `yaml` config file, shown as below. \n",
        "```\n",
        "# config/demo/add_user_model_vgg.yaml\n",
        "DATA:\n",
        "  ROOT: \"datasets\"\n",
        "  TRAIN_IMG_DATA: \"ChaLearn2016_tiny/train_data\"\n",
        "  VALID_IMG_DATA: \"ChaLearn2016_tiny/valid_data\"\n",
        "  TEST_IMG_DATA: \"ChaLearn2016_tiny/test_data\"\n",
        "  TRAIN_AUD_DATA: \"ChaLearn2016_tiny/voice_data/voice_librosa/train_data\"\n",
        "  VALID_AUD_DATA: \"ChaLearn2016_tiny/voice_data/voice_librosa/valid_data\"\n",
        "  TEST_AUD_DATA: \"ChaLearn2016_tiny/voice_data/voice_librosa/test_data\"\n",
        "  TRAIN_LABEL_DATA: \"ChaLearn2016_tiny/annotation/annotation_training.pkl\"\n",
        "  VALID_LABEL_DATA: \"ChaLearn2016_tiny/annotation/annotation_validation.pkl\"\n",
        "  TEST_LABEL_DATA: \"ChaLearn2016_tiny/annotation/annotation_test.pkl\"\n",
        "DATA_LOADER:\n",
        "  NAME: \"single_frame_data_loader\"\n",
        "  TRANSFORM: \"standard_frame_transform\"\n",
        "  TRAIN_BATCH_SIZE: 8\n",
        "  VALID_BATCH_SIZE: 4\n",
        "  NUM_WORKERS: 0\n",
        "MODEL:\n",
        "  NAME: \"demo_model\"\n",
        "LOSS:\n",
        "  NAME: \"mean_square_error\"\n",
        "SOLVER:\n",
        "  NAME: \"sgd\"\n",
        "  SCHEDULER: \"multi_step_scale\"\n",
        "  LR_INIT: 0.001\n",
        "  WEIGHT_DECAY: 0.0005\n",
        "  MOMENTUM: 0.9\n",
        "  MILESTONE: [100, 200]\n",
        "TRAIN:\n",
        "  TRAINER: \"ImageModalTrainer\"\n",
        "  MAX_EPOCH: 30\n",
        "  OUTPUT_DIR: \"results/demo/vgg16\"\n",
        "  ```\n",
        "  > To run the config file, create it in the code repo first. "
      ]
    },
    {
      "cell_type": "code",
      "execution_count": 6,
      "metadata": {
        "colab": {
          "base_uri": "https://localhost:8080/"
        },
        "id": "JJwmJEZRfkZZ",
        "outputId": "19a29466-b714-4c6e-fbed-fc4a4f92b41c"
      },
      "outputs": [
        {
          "name": "stdout",
          "output_type": "stream",
          "text": [
            "Traceback (most recent call last):\n",
            "  File \"/home/hyojinju/DeepPersonality/script/run_exp.py\", line 49, in <module>\n",
            "    main()\n",
            "  File \"/home/hyojinju/DeepPersonality/script/run_exp.py\", line 38, in main\n",
            "    args = setup()\n",
            "  File \"/home/hyojinju/DeepPersonality/script/run_exp.py\", line 20, in setup\n",
            "    cfg_from_file(args.cfg_file)\n",
            "  File \"/home/hyojinju/DeepPersonality/script/../dpcv/config/default_config_opt.py\", line 170, in cfg_from_file\n",
            "    with open(filename, 'r') as f:\n",
            "FileNotFoundError: [Errno 2] No such file or directory: '/home/hyojinju/DeepPersonality/config/demo/add_user_model_vgg.yaml'\n"
          ]
        }
      ],
      "source": [
        "!python script/run_exp.py -c /home/hyojinju/DeepPersonality/config/demo/add_user_model_vgg.yaml"
      ]
    }
  ],
  "metadata": {
    "accelerator": "GPU",
    "colab": {
      "provenance": []
    },
    "gpuClass": "standard",
    "kernelspec": {
      "display_name": "Python 3",
      "name": "python3"
    },
    "language_info": {
      "codemirror_mode": {
        "name": "ipython",
        "version": 3
      },
      "file_extension": ".py",
      "mimetype": "text/x-python",
      "name": "python",
      "nbconvert_exporter": "python",
      "pygments_lexer": "ipython3",
      "version": "3.9.0"
    }
  },
  "nbformat": 4,
  "nbformat_minor": 0
}
